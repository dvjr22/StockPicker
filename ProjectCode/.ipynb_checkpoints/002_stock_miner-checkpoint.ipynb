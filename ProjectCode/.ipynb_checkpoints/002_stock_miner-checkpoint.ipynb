{
 "cells": [
  {
   "cell_type": "markdown",
   "metadata": {},
   "source": [
    "# References"
   ]
  },
  {
   "cell_type": "code",
   "execution_count": 2,
   "metadata": {},
   "outputs": [],
   "source": [
    "# http://theautomatic.net/yahoo_fin-documentation/\n",
    "# http://theautomatic.net/2020/05/05/how-to-download-fundamentals-data-with-python/\n",
    "# https://algotrading101.com/learn/yahoo-finance-api-guide/>\n",
    "# https://blog.quantinsti.com/quantitative-value-investing-strategy-python/\n",
    "# https://www.activestate.com/blog/top-10-python-packages-for-finance-and-financial-modeling/\n",
    "# https://medium.com/automation-generation/teaching-your-computer-to-invest-with-python-commission-free-automated-investing-5ade10961e08"
   ]
  },
  {
   "cell_type": "markdown",
   "metadata": {},
   "source": [
    "# Imports"
   ]
  },
  {
   "cell_type": "code",
   "execution_count": 3,
   "metadata": {},
   "outputs": [],
   "source": [
    "import pandas as pd\n",
    "import yahoo_fin.stock_info as si\n",
    "import time\n",
    "import timeit\n",
    "\n",
    "start = timeit.default_timer()"
   ]
  },
  {
   "cell_type": "markdown",
   "metadata": {},
   "source": [
    "# Variables"
   ]
  },
  {
   "cell_type": "code",
   "execution_count": 4,
   "metadata": {},
   "outputs": [],
   "source": [
    "ratio_valuation_function=['Price/Book (mrq)','Trailing P/E','Forward P/E 1',\\\n",
    "                          'PEG Ratio (5 yr expected) 1','Price/Sales (ttm)']\n",
    "\n",
    "ratio_stat=['Total Debt/Equity (mrq)', 'Diluted EPS (ttm)', 'Trailing Annual Dividend Yield 3',\\\n",
    "            'Forward Annual Dividend Yield 4', '% Held by Insiders 1','% Held by Institutions 1',\\\n",
    "            'Return on Equity (ttm)','Return on Assets (ttm)','Quarterly Earnings Growth (yoy)',\\\n",
    "            'current_price']\n",
    "\n",
    "# ratio_stat=['Total Debt/Equity (mrq)', 'Diluted EPS (ttm)', 'Trailing Annual Dividend Yield 3',\\\n",
    "#             'Forward Annual Dividend Yield 4', '% Held by Insiders 1','% Held by Institutions 1',\\\n",
    "#             'Return on Equity (ttm)','Return on Assets (ttm)','Quarterly Earnings Growth (yoy)', \\\n",
    "#             'current_price','Beta (5Y Monthly)']"
   ]
  },
  {
   "cell_type": "markdown",
   "metadata": {},
   "source": [
    "# Get Updated S&P 500"
   ]
  },
  {
   "cell_type": "code",
   "execution_count": 5,
   "metadata": {},
   "outputs": [
    {
     "name": "stdout",
     "output_type": "stream",
     "text": [
      "505\n"
     ]
    }
   ],
   "source": [
    "# complete sp 500 list\n",
    "# file generated: get_sp_500_update.py\n",
    "# ticker_df = pd.read_csv('../ProjectDatasets/sp_500_symbols.csv', sep=',')\n",
    "# tickers = ticker_df['Symbol'].tolist()\n",
    "\n",
    "# get latest sp500\n",
    "tickers = si.tickers_sp500()\n",
    "\n",
    "# tickersDF = si.tickers_sp500(True)\n",
    "# tickers = tickers[:4].copy()\n",
    "\n",
    "print(len(tickers))"
   ]
  },
  {
   "cell_type": "markdown",
   "metadata": {},
   "source": [
    "# Company Info"
   ]
  },
  {
   "cell_type": "code",
   "execution_count": 6,
   "metadata": {},
   "outputs": [],
   "source": [
    "tickersDF = si.tickers_sp500(True)\n",
    "tickersDF.index = tickersDF['Symbol']\n",
    "\n",
    "tickersDF.index.rename('ticker', inplace=True)\n",
    "tickersDF.drop(columns=['Symbol'], inplace=True)"
   ]
  },
  {
   "cell_type": "markdown",
   "metadata": {},
   "source": [
    "# Sort Data"
   ]
  },
  {
   "cell_type": "code",
   "execution_count": 7,
   "metadata": {
    "scrolled": true
   },
   "outputs": [],
   "source": [
    "table=pd.DataFrame()\n",
    "\n",
    "ticker_index = []\n",
    "retry_ticker = []\n",
    "count = 0\n",
    "\n",
    "for p in tickers:\n",
    "#     print(p)\n",
    "    try:\n",
    "        data=si.get_stats(p)\n",
    "        data.index=data[\"Attribute\"]\n",
    "        data=data.drop(labels=\"Attribute\",axis=1)\n",
    "        raw_table=data.T\n",
    "        raw_table['current_price'] = round(si.get_live_price(p),2)\n",
    "        table=table.append(raw_table)   #Table having Data about the company\n",
    "        ticker_index.append(p)\n",
    "    except:\n",
    "        count = count+1\n",
    "        print('Bad Ticker {}: {}'.format(count, p))\n",
    "        retry_ticker.append(p)\n",
    "\n",
    "if len(retry_ticker) > 0:     \n",
    "    time.sleep(60*20)\n",
    "    count = 0\n",
    "\n",
    "    for p in retry_ticker:\n",
    "    #     print(p)\n",
    "        try:\n",
    "            data=si.get_stats(p)\n",
    "            data.index=data[\"Attribute\"]\n",
    "            data=data.drop(labels=\"Attribute\",axis=1)\n",
    "            raw_table=data.T\n",
    "            raw_table['current_price'] = round(si.get_live_price(p),2)\n",
    "            table=table.append(raw_table)   #Table having Data about the company\n",
    "            ticker_index.append(p)\n",
    "            time.sleep(30)\n",
    "        except:\n",
    "            count = count+1\n",
    "            print('Bad Ticker 2nd attempt {}: {}'.format(count, p))\n",
    "            time.sleep(60*5)\n",
    "    \n",
    "table.index=ticker_index\n",
    "table1 = table[ratio_stat]"
   ]
  },
  {
   "cell_type": "code",
   "execution_count": 8,
   "metadata": {},
   "outputs": [],
   "source": [
    "time.sleep(60*30)"
   ]
  },
  {
   "cell_type": "code",
   "execution_count": 9,
   "metadata": {
    "scrolled": true
   },
   "outputs": [],
   "source": [
    "table=pd.DataFrame()\n",
    "\n",
    "tickers = ticker_index.copy()\n",
    "new_index = []\n",
    "retry_ticker = []\n",
    "count = 0\n",
    "\n",
    "for p in tickers:\n",
    "#     print(p)\n",
    "    try:\n",
    "        extra_ratio=si.get_stats_valuation(p)\n",
    "        extra_ratio = extra_ratio.iloc[:,0:2]\n",
    "        extra_ratio.index=extra_ratio['Unnamed: 0']\n",
    "        extra_ratio=extra_ratio.drop(labels='Unnamed: 0',axis=1)\n",
    "        new_table=extra_ratio.T\n",
    "        table=table.append(new_table)  #Table having Data about the company\n",
    "        new_index.append(p)\n",
    "        time.sleep(20)\n",
    "    except:\n",
    "        count = count+1\n",
    "        print('Bad Ticker {}: {}'.format(count, p))\n",
    "        retry_ticker.append(p)\n",
    "        time.sleep(60*10)\n",
    "        \n",
    "if len(retry_ticker) > 0:     \n",
    "    time.sleep(60*20)\n",
    "    count = 0\n",
    "\n",
    "    for p in retry_ticker:\n",
    "    #     print(p)\n",
    "        try:\n",
    "            data=si.get_stats(p)\n",
    "            data.index=data[\"Attribute\"]\n",
    "            data=data.drop(labels=\"Attribute\",axis=1)\n",
    "            raw_table=data.T\n",
    "            raw_table['current_price'] = round(si.get_live_price(p),2)\n",
    "            table=table.append(raw_table)   #Table having Data about the company\n",
    "            new_index.append(p)\n",
    "            time.sleep(30)\n",
    "        except:\n",
    "            count = count+1\n",
    "            print('Bad Ticker 2nd attempt {}: {}'.format(count, p))\n",
    "            time.sleep(60*5)\n",
    "        \n",
    "table.index=new_index\n",
    "table2 = table[ratio_valuation_function]"
   ]
  },
  {
   "cell_type": "code",
   "execution_count": 10,
   "metadata": {},
   "outputs": [],
   "source": [
    "final=pd.concat([table2,table1],axis=1)\n",
    "# og_final = final.copy()"
   ]
  },
  {
   "cell_type": "code",
   "execution_count": 11,
   "metadata": {},
   "outputs": [
    {
     "name": "stdout",
     "output_type": "stream",
     "text": [
      "(505, 15)\n"
     ]
    }
   ],
   "source": [
    "final.to_csv('../ProjectDatasets/final_recommendations_int.csv', index=True, index_label='ticker')\n",
    "print(final.shape)"
   ]
  },
  {
   "cell_type": "markdown",
   "metadata": {},
   "source": [
    "# Evaluations"
   ]
  },
  {
   "cell_type": "code",
   "execution_count": 13,
   "metadata": {},
   "outputs": [],
   "source": [
    "final['Trailing P/E'] = pd.to_numeric(final['Trailing P/E'], errors='coerce')\n",
    "final['Price/Book (mrq)'] = pd.to_numeric(final['Price/Book (mrq)'], errors='coerce')"
   ]
  },
  {
   "cell_type": "code",
   "execution_count": 26,
   "metadata": {},
   "outputs": [],
   "source": [
    "# low_valuations\n",
    "final = final[(final['Trailing P/E'].astype(float)<40) & (final['Price/Book (mrq)'].astype(float) < 15)].copy()\n",
    "\n",
    "# earning_power\n",
    "final = final[final['Diluted EPS (ttm)'].astype(float) > 4].copy()\n",
    "\n",
    "# equity_to_debt\n",
    "final = final[(final['Total Debt/Equity (mrq)'].astype(float)< 75 )].copy() # Filter for Debt to Equity\n",
    "final = final[(final['Return on Equity (ttm)'] > str(20) )].copy() # Filter for ROE\n",
    "\n",
    "# insider_owned\n",
    "final = final[final['% Held by Insiders 1']>str(.07)].copy()"
   ]
  },
  {
   "cell_type": "code",
   "execution_count": 27,
   "metadata": {},
   "outputs": [],
   "source": [
    "FINAL = pd.concat([tickersDF,final], axis=1, join='inner')\n",
    "FINAL.sort_values(by=['current_price'], inplace=True)"
   ]
  },
  {
   "cell_type": "code",
   "execution_count": 31,
   "metadata": {},
   "outputs": [
    {
     "data": {
      "text/html": [
       "<div>\n",
       "<style scoped>\n",
       "    .dataframe tbody tr th:only-of-type {\n",
       "        vertical-align: middle;\n",
       "    }\n",
       "\n",
       "    .dataframe tbody tr th {\n",
       "        vertical-align: top;\n",
       "    }\n",
       "\n",
       "    .dataframe thead th {\n",
       "        text-align: right;\n",
       "    }\n",
       "</style>\n",
       "<table border=\"1\" class=\"dataframe\">\n",
       "  <thead>\n",
       "    <tr style=\"text-align: right;\">\n",
       "      <th></th>\n",
       "      <th>Security</th>\n",
       "      <th>SEC filings</th>\n",
       "      <th>GICS Sector</th>\n",
       "      <th>GICS Sub-Industry</th>\n",
       "      <th>Headquarters Location</th>\n",
       "      <th>Date first added</th>\n",
       "      <th>CIK</th>\n",
       "      <th>Founded</th>\n",
       "      <th>Price/Book (mrq)</th>\n",
       "      <th>Trailing P/E</th>\n",
       "      <th>...</th>\n",
       "      <th>Total Debt/Equity (mrq)</th>\n",
       "      <th>Diluted EPS (ttm)</th>\n",
       "      <th>Trailing Annual Dividend Yield 3</th>\n",
       "      <th>Forward Annual Dividend Yield 4</th>\n",
       "      <th>% Held by Insiders 1</th>\n",
       "      <th>% Held by Institutions 1</th>\n",
       "      <th>Return on Equity (ttm)</th>\n",
       "      <th>Return on Assets (ttm)</th>\n",
       "      <th>Quarterly Earnings Growth (yoy)</th>\n",
       "      <th>current_price</th>\n",
       "    </tr>\n",
       "  </thead>\n",
       "  <tbody>\n",
       "    <tr>\n",
       "      <th>PHM</th>\n",
       "      <td>PulteGroup</td>\n",
       "      <td>reports</td>\n",
       "      <td>Consumer Discretionary</td>\n",
       "      <td>Homebuilding</td>\n",
       "      <td>Atlanta, Georgia</td>\n",
       "      <td>1984-04-30</td>\n",
       "      <td>822416</td>\n",
       "      <td>1956</td>\n",
       "      <td>2.31</td>\n",
       "      <td>10.74</td>\n",
       "      <td>...</td>\n",
       "      <td>50.85</td>\n",
       "      <td>5.18</td>\n",
       "      <td>0.82%</td>\n",
       "      <td>0.95%</td>\n",
       "      <td>3.50%</td>\n",
       "      <td>90.63%</td>\n",
       "      <td>23.39%</td>\n",
       "      <td>9.68%</td>\n",
       "      <td>30.50%</td>\n",
       "      <td>59.81</td>\n",
       "    </tr>\n",
       "    <tr>\n",
       "      <th>CNC</th>\n",
       "      <td>Centene Corporation</td>\n",
       "      <td>reports</td>\n",
       "      <td>Health Care</td>\n",
       "      <td>Managed Health Care</td>\n",
       "      <td>St. Louis, Missouri</td>\n",
       "      <td>2016-03-30</td>\n",
       "      <td>1071739</td>\n",
       "      <td>1984</td>\n",
       "      <td>1.35</td>\n",
       "      <td>14.49</td>\n",
       "      <td>...</td>\n",
       "      <td>69.07</td>\n",
       "      <td>4.19</td>\n",
       "      <td>NaN</td>\n",
       "      <td>NaN</td>\n",
       "      <td>1.14%</td>\n",
       "      <td>94.53%</td>\n",
       "      <td>9.74%</td>\n",
       "      <td>4.33%</td>\n",
       "      <td>1,419.60%</td>\n",
       "      <td>60.59</td>\n",
       "    </tr>\n",
       "    <tr>\n",
       "      <th>DHI</th>\n",
       "      <td>D. R. Horton</td>\n",
       "      <td>reports</td>\n",
       "      <td>Consumer Discretionary</td>\n",
       "      <td>Homebuilding</td>\n",
       "      <td>Arlington, Texas</td>\n",
       "      <td>2005-06-22</td>\n",
       "      <td>882184</td>\n",
       "      <td>1978</td>\n",
       "      <td>2.78</td>\n",
       "      <td>11.58</td>\n",
       "      <td>...</td>\n",
       "      <td>34.32</td>\n",
       "      <td>8.63</td>\n",
       "      <td>0.75%</td>\n",
       "      <td>0.80%</td>\n",
       "      <td>10.01%</td>\n",
       "      <td>83.55%</td>\n",
       "      <td>26.60%</td>\n",
       "      <td>13.30%</td>\n",
       "      <td>92.60%</td>\n",
       "      <td>101.47</td>\n",
       "    </tr>\n",
       "    <tr>\n",
       "      <th>PGR</th>\n",
       "      <td>Progressive Corp.</td>\n",
       "      <td>reports</td>\n",
       "      <td>Financials</td>\n",
       "      <td>Property &amp; Casualty Insurance</td>\n",
       "      <td>Mayfield Village, Ohio</td>\n",
       "      <td>1997-08-04</td>\n",
       "      <td>80661</td>\n",
       "      <td>1937</td>\n",
       "      <td>3.28</td>\n",
       "      <td>9.08</td>\n",
       "      <td>...</td>\n",
       "      <td>30.26</td>\n",
       "      <td>11.00</td>\n",
       "      <td>4.88%</td>\n",
       "      <td>0.40%</td>\n",
       "      <td>0.30%</td>\n",
       "      <td>84.06%</td>\n",
       "      <td>40.02%</td>\n",
       "      <td>8.62%</td>\n",
       "      <td>111.70%</td>\n",
       "      <td>101.95</td>\n",
       "    </tr>\n",
       "    <tr>\n",
       "      <th>ATO</th>\n",
       "      <td>Atmos Energy</td>\n",
       "      <td>reports</td>\n",
       "      <td>Utilities</td>\n",
       "      <td>Gas Utilities</td>\n",
       "      <td>Dallas, Texas</td>\n",
       "      <td>2019-02-15</td>\n",
       "      <td>731802</td>\n",
       "      <td>1906</td>\n",
       "      <td>1.80</td>\n",
       "      <td>19.78</td>\n",
       "      <td>...</td>\n",
       "      <td>71.05</td>\n",
       "      <td>5.15</td>\n",
       "      <td>2.34%</td>\n",
       "      <td>2.49%</td>\n",
       "      <td>1.01%</td>\n",
       "      <td>90.61%</td>\n",
       "      <td>9.60%</td>\n",
       "      <td>3.49%</td>\n",
       "      <td>21.80%</td>\n",
       "      <td>102.18</td>\n",
       "    </tr>\n",
       "  </tbody>\n",
       "</table>\n",
       "<p>5 rows × 23 columns</p>\n",
       "</div>"
      ],
      "text/plain": [
       "                Security SEC filings             GICS Sector  \\\n",
       "PHM           PulteGroup     reports  Consumer Discretionary   \n",
       "CNC  Centene Corporation     reports             Health Care   \n",
       "DHI         D. R. Horton     reports  Consumer Discretionary   \n",
       "PGR    Progressive Corp.     reports              Financials   \n",
       "ATO         Atmos Energy     reports               Utilities   \n",
       "\n",
       "                 GICS Sub-Industry   Headquarters Location Date first added  \\\n",
       "PHM                   Homebuilding        Atlanta, Georgia       1984-04-30   \n",
       "CNC            Managed Health Care     St. Louis, Missouri       2016-03-30   \n",
       "DHI                   Homebuilding        Arlington, Texas       2005-06-22   \n",
       "PGR  Property & Casualty Insurance  Mayfield Village, Ohio       1997-08-04   \n",
       "ATO                  Gas Utilities           Dallas, Texas       2019-02-15   \n",
       "\n",
       "         CIK Founded  Price/Book (mrq)  Trailing P/E  ...  \\\n",
       "PHM   822416    1956              2.31         10.74  ...   \n",
       "CNC  1071739    1984              1.35         14.49  ...   \n",
       "DHI   882184    1978              2.78         11.58  ...   \n",
       "PGR    80661    1937              3.28          9.08  ...   \n",
       "ATO   731802    1906              1.80         19.78  ...   \n",
       "\n",
       "    Total Debt/Equity (mrq) Diluted EPS (ttm)  \\\n",
       "PHM                   50.85              5.18   \n",
       "CNC                   69.07              4.19   \n",
       "DHI                   34.32              8.63   \n",
       "PGR                   30.26             11.00   \n",
       "ATO                   71.05              5.15   \n",
       "\n",
       "    Trailing Annual Dividend Yield 3 Forward Annual Dividend Yield 4  \\\n",
       "PHM                            0.82%                           0.95%   \n",
       "CNC                              NaN                             NaN   \n",
       "DHI                            0.75%                           0.80%   \n",
       "PGR                            4.88%                           0.40%   \n",
       "ATO                            2.34%                           2.49%   \n",
       "\n",
       "    % Held by Insiders 1 % Held by Institutions 1 Return on Equity (ttm)  \\\n",
       "PHM                3.50%                   90.63%                 23.39%   \n",
       "CNC                1.14%                   94.53%                  9.74%   \n",
       "DHI               10.01%                   83.55%                 26.60%   \n",
       "PGR                0.30%                   84.06%                 40.02%   \n",
       "ATO                1.01%                   90.61%                  9.60%   \n",
       "\n",
       "    Return on Assets (ttm) Quarterly Earnings Growth (yoy) current_price  \n",
       "PHM                  9.68%                          30.50%         59.81  \n",
       "CNC                  4.33%                       1,419.60%         60.59  \n",
       "DHI                 13.30%                          92.60%        101.47  \n",
       "PGR                  8.62%                         111.70%        101.95  \n",
       "ATO                  3.49%                          21.80%        102.18  \n",
       "\n",
       "[5 rows x 23 columns]"
      ]
     },
     "execution_count": 31,
     "metadata": {},
     "output_type": "execute_result"
    }
   ],
   "source": [
    "FINAL.head()"
   ]
  },
  {
   "cell_type": "code",
   "execution_count": 23,
   "metadata": {},
   "outputs": [],
   "source": [
    "FINAL.to_csv('../ProjectDatasets/final_recommendations.csv', index=True, index_label='ticker')"
   ]
  },
  {
   "cell_type": "code",
   "execution_count": 29,
   "metadata": {},
   "outputs": [
    {
     "data": {
      "text/plain": [
       "(40, 23)"
      ]
     },
     "execution_count": 29,
     "metadata": {},
     "output_type": "execute_result"
    }
   ],
   "source": [
    "FINAL.shape"
   ]
  },
  {
   "cell_type": "code",
   "execution_count": 19,
   "metadata": {},
   "outputs": [
    {
     "name": "stdout",
     "output_type": "stream",
     "text": [
      "Time:  13452.5298133\n"
     ]
    }
   ],
   "source": [
    "stop = timeit.default_timer()\n",
    "\n",
    "print('Time (hrs): ', ((stop - start)/60)/60)  "
   ]
  }
 ],
 "metadata": {
  "kernelspec": {
   "display_name": "Python 3",
   "language": "python",
   "name": "python3"
  },
  "language_info": {
   "codemirror_mode": {
    "name": "ipython",
    "version": 3
   },
   "file_extension": ".py",
   "mimetype": "text/x-python",
   "name": "python",
   "nbconvert_exporter": "python",
   "pygments_lexer": "ipython3",
   "version": "3.8.5"
  }
 },
 "nbformat": 4,
 "nbformat_minor": 4
}
