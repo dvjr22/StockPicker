{
 "cells": [
  {
   "cell_type": "markdown",
   "metadata": {},
   "source": [
    "# References"
   ]
  },
  {
   "cell_type": "code",
   "execution_count": 1,
   "metadata": {},
   "outputs": [],
   "source": [
    "# http://theautomatic.net/yahoo_fin-documentation/\n",
    "# http://theautomatic.net/2020/05/05/how-to-download-fundamentals-data-with-python/\n",
    "# https://algotrading101.com/learn/yahoo-finance-api-guide/>\n",
    "# https://blog.quantinsti.com/quantitative-value-investing-strategy-python/\n",
    "# https://www.activestate.com/blog/top-10-python-packages-for-finance-and-financial-modeling/"
   ]
  },
  {
   "cell_type": "markdown",
   "metadata": {},
   "source": [
    "# Imports"
   ]
  },
  {
   "cell_type": "code",
   "execution_count": 2,
   "metadata": {},
   "outputs": [],
   "source": [
    "import pandas as pd\n",
    "import yahoo_fin.stock_info as si\n",
    "# import time"
   ]
  },
  {
   "cell_type": "markdown",
   "metadata": {},
   "source": [
    "# Variables"
   ]
  },
  {
   "cell_type": "code",
   "execution_count": 3,
   "metadata": {},
   "outputs": [],
   "source": [
    "ratio_valuation_function=['Price/Book (mrq)','Trailing P/E','Forward P/E 1',\\\n",
    "                          'PEG Ratio (5 yr expected) 1','Price/Sales (ttm)']\n",
    "\n",
    "ratio_stat=['Total Debt/Equity (mrq)', 'Diluted EPS (ttm)', 'Trailing Annual Dividend Yield 3',\\\n",
    "            'Forward Annual Dividend Yield 4', '% Held by Insiders 1','% Held by Institutions 1',\\\n",
    "            'Return on Equity (ttm)','Return on Assets (ttm)','Quarterly Earnings Growth (yoy)',\\\n",
    "            'current_price']\n",
    "\n",
    "# ratio_stat=['Total Debt/Equity (mrq)', 'Diluted EPS (ttm)', 'Trailing Annual Dividend Yield 3',\\\n",
    "#             'Forward Annual Dividend Yield 4', '% Held by Insiders 1','% Held by Institutions 1',\\\n",
    "#             'Return on Equity (ttm)','Return on Assets (ttm)','Quarterly Earnings Growth (yoy)', \\\n",
    "#             'current_price','Beta (5Y Monthly)']"
   ]
  },
  {
   "cell_type": "markdown",
   "metadata": {},
   "source": [
    "# Get Updated S&P 500"
   ]
  },
  {
   "cell_type": "code",
   "execution_count": 4,
   "metadata": {},
   "outputs": [
    {
     "name": "stdout",
     "output_type": "stream",
     "text": [
      "505\n"
     ]
    }
   ],
   "source": [
    "# complete sp 500 list\n",
    "# file generated: get_sp_500_update.py\n",
    "# ticker_df = pd.read_csv('../ProjectDatasets/sp_500_symbols.csv', sep=',')\n",
    "# tickers = ticker_df['Symbol'].tolist()\n",
    "\n",
    "# get latest sp500\n",
    "tickers = si.tickers_sp500()\n",
    "\n",
    "# tickersDF = si.tickers_sp500(True)\n",
    "# tickers = tickers[:4].copy()\n",
    "\n",
    "print(len(tickers))"
   ]
  },
  {
   "cell_type": "markdown",
   "metadata": {},
   "source": [
    "# Company Info"
   ]
  },
  {
   "cell_type": "code",
   "execution_count": null,
   "metadata": {},
   "outputs": [],
   "source": [
    "tickersDF = si.tickers_sp500(True)\n",
    "tickersDF.index=tickersDF['Symbol']\n",
    "\n",
    "tickersDF.index.rename('ticker', inplace=True)\n",
    "tickersDF.drop(columns=['Symbol'], inplace=True)"
   ]
  },
  {
   "cell_type": "markdown",
   "metadata": {},
   "source": [
    "# Sort Data"
   ]
  },
  {
   "cell_type": "code",
   "execution_count": 5,
   "metadata": {
    "scrolled": true
   },
   "outputs": [
    {
     "name": "stdout",
     "output_type": "stream",
     "text": [
      "Bad Ticker 1: BRK.B\n",
      "Bad Ticker 2: BF.B\n",
      "Bad Ticker 2nd attempt 1: BRK.B\n",
      "Bad Ticker 2nd attempt 2: BF.B\n"
     ]
    }
   ],
   "source": [
    "table=pd.DataFrame()\n",
    "\n",
    "ticker_index = []\n",
    "retry_ticker = []\n",
    "count = 0\n",
    "\n",
    "for p in tickers:\n",
    "#     print(p)\n",
    "    try:\n",
    "        data=si.get_stats(p)\n",
    "        data.index=data[\"Attribute\"]\n",
    "        data=data.drop(labels=\"Attribute\",axis=1)\n",
    "        raw_table=data.T\n",
    "        raw_table['current_price'] = round(si.get_live_price(p),2)\n",
    "        table=table.append(raw_table)   #Table having Data about the company\n",
    "        ticker_index.append(p)\n",
    "    except:\n",
    "        count = count+1\n",
    "        print('Bad Ticker {}: {}'.format(count, p))\n",
    "        retry_ticker.append(p)\n",
    "\n",
    "if len(retry_ticker) > 0:     \n",
    "    time.sleep(60*20)\n",
    "    count = 0\n",
    "\n",
    "    for p in retry_ticker:\n",
    "    #     print(p)\n",
    "        try:\n",
    "            data=si.get_stats(p)\n",
    "            data.index=data[\"Attribute\"]\n",
    "            data=data.drop(labels=\"Attribute\",axis=1)\n",
    "            raw_table=data.T\n",
    "            raw_table['current_price'] = round(si.get_live_price(p),2)\n",
    "            table=table.append(raw_table)   #Table having Data about the company\n",
    "            ticker_index.append(p)\n",
    "            time.sleep(30)\n",
    "        except:\n",
    "            count = count+1\n",
    "            print('Bad Ticker 2nd attempt {}: {}'.format(count, p))\n",
    "            time.sleep(60*5)\n",
    "    \n",
    "table.index=ticker_index\n",
    "table1 = table[ratio_stat]"
   ]
  },
  {
   "cell_type": "code",
   "execution_count": 6,
   "metadata": {},
   "outputs": [],
   "source": [
    "time.sleep(60*30)"
   ]
  },
  {
   "cell_type": "code",
   "execution_count": 7,
   "metadata": {
    "scrolled": true
   },
   "outputs": [],
   "source": [
    "table=pd.DataFrame()\n",
    "\n",
    "tickers = ticker_index.copy()\n",
    "new_index = []\n",
    "retry_ticker = []\n",
    "count = 0\n",
    "\n",
    "for p in tickers:\n",
    "#     print(p)\n",
    "    try:\n",
    "        extra_ratio=si.get_stats_valuation(p)\n",
    "        extra_ratio = extra_ratio.iloc[:,0:2]\n",
    "        extra_ratio.index=extra_ratio['Unnamed: 0']\n",
    "        extra_ratio=extra_ratio.drop(labels='Unnamed: 0',axis=1)\n",
    "        new_table=extra_ratio.T\n",
    "        table=table.append(new_table)  #Table having Data about the company\n",
    "        new_index.append(p)\n",
    "        time.sleep(30)\n",
    "    except:\n",
    "        count = count+1\n",
    "        print('Bad Ticker {}: {}'.format(count, p))\n",
    "        retry_ticker.append(p)\n",
    "        time.sleep(60*20)\n",
    "        \n",
    "if len(retry_ticker) > 0:     \n",
    "    time.sleep(60*20)\n",
    "    count = 0\n",
    "\n",
    "    for p in retry_ticker:\n",
    "    #     print(p)\n",
    "        try:\n",
    "            data=si.get_stats(p)\n",
    "            data.index=data[\"Attribute\"]\n",
    "            data=data.drop(labels=\"Attribute\",axis=1)\n",
    "            raw_table=data.T\n",
    "            raw_table['current_price'] = round(si.get_live_price(p),2)\n",
    "            table=table.append(raw_table)   #Table having Data about the company\n",
    "            new_index.append(p)\n",
    "            time.sleep(30)\n",
    "        except:\n",
    "            count = count+1\n",
    "            print('Bad Ticker 2nd attempt {}: {}'.format(count, p))\n",
    "            time.sleep(60*5)\n",
    "        \n",
    "table.index=new_index\n",
    "table2 = table[ratio_valuation_function]"
   ]
  },
  {
   "cell_type": "code",
   "execution_count": 8,
   "metadata": {},
   "outputs": [],
   "source": [
    "final=pd.concat([table2,table1],axis=1)\n",
    "# og_final = final.copy()"
   ]
  },
  {
   "cell_type": "code",
   "execution_count": 10,
   "metadata": {},
   "outputs": [
    {
     "name": "stdout",
     "output_type": "stream",
     "text": [
      "(503, 15)\n"
     ]
    }
   ],
   "source": [
    "final.to_csv('../ProjectDatasets/final_recommendations_int.csv', index=True, index_label='ticker')\n",
    "print(final.shape)"
   ]
  },
  {
   "cell_type": "code",
   "execution_count": 11,
   "metadata": {},
   "outputs": [],
   "source": [
    "# final = pd.read_csv('../ProjectDatasets/final_recommendations_int.csv', sep=',', index_col='ticker')"
   ]
  },
  {
   "cell_type": "markdown",
   "metadata": {},
   "source": [
    "# Evaluations"
   ]
  },
  {
   "cell_type": "code",
   "execution_count": 12,
   "metadata": {},
   "outputs": [],
   "source": [
    "final['Trailing P/E'] = pd.to_numeric(final['Trailing P/E'], errors='coerce')\n",
    "final['Price/Book (mrq)'] = pd.to_numeric(final['Price/Book (mrq)'], errors='coerce')"
   ]
  },
  {
   "cell_type": "code",
   "execution_count": 13,
   "metadata": {},
   "outputs": [],
   "source": [
    "# low_valuations\n",
    "final = final[(final['Trailing P/E'].astype(float)<40) & (final['Price/Book (mrq)'].astype(float) < 15)].copy()\n",
    "\n",
    "# earning_power\n",
    "final = final[final['Diluted EPS (ttm)'].astype(float) > 4].copy()\n",
    "\n",
    "# equity_to_debt\n",
    "final = final[(final['Total Debt/Equity (mrq)'].astype(float)< 75 )].copy() # Filter for Debt to Equity\n",
    "final = final[(final['Return on Equity (ttm)'] > str(20) )] # Filter for ROE\n",
    "\n",
    "# insider_owned\n",
    "final = final[final['% Held by Insiders 1']>str(.07)]"
   ]
  },
  {
   "cell_type": "code",
   "execution_count": null,
   "metadata": {},
   "outputs": [],
   "source": [
    "FINAL = pd.concat([tickersDF,final], axis=1, join='inner')"
   ]
  },
  {
   "cell_type": "code",
   "execution_count": 14,
   "metadata": {},
   "outputs": [
    {
     "data": {
      "text/html": [
       "<div>\n",
       "<style scoped>\n",
       "    .dataframe tbody tr th:only-of-type {\n",
       "        vertical-align: middle;\n",
       "    }\n",
       "\n",
       "    .dataframe tbody tr th {\n",
       "        vertical-align: top;\n",
       "    }\n",
       "\n",
       "    .dataframe thead th {\n",
       "        text-align: right;\n",
       "    }\n",
       "</style>\n",
       "<table border=\"1\" class=\"dataframe\">\n",
       "  <thead>\n",
       "    <tr style=\"text-align: right;\">\n",
       "      <th></th>\n",
       "      <th>Price/Book (mrq)</th>\n",
       "      <th>Trailing P/E</th>\n",
       "      <th>Forward P/E 1</th>\n",
       "      <th>PEG Ratio (5 yr expected) 1</th>\n",
       "      <th>Price/Sales (ttm)</th>\n",
       "      <th>Total Debt/Equity (mrq)</th>\n",
       "      <th>Diluted EPS (ttm)</th>\n",
       "      <th>Trailing Annual Dividend Yield 3</th>\n",
       "      <th>Forward Annual Dividend Yield 4</th>\n",
       "      <th>% Held by Insiders 1</th>\n",
       "      <th>% Held by Institutions 1</th>\n",
       "      <th>Return on Equity (ttm)</th>\n",
       "      <th>Return on Assets (ttm)</th>\n",
       "      <th>Quarterly Earnings Growth (yoy)</th>\n",
       "      <th>current_price</th>\n",
       "    </tr>\n",
       "  </thead>\n",
       "  <tbody>\n",
       "    <tr>\n",
       "      <th>ACN</th>\n",
       "      <td>10.13</td>\n",
       "      <td>34.57</td>\n",
       "      <td>34.48</td>\n",
       "      <td>3.69</td>\n",
       "      <td>4.13</td>\n",
       "      <td>18.44</td>\n",
       "      <td>8.45</td>\n",
       "      <td>1.18%</td>\n",
       "      <td>1.21%</td>\n",
       "      <td>0.11%</td>\n",
       "      <td>73.54%</td>\n",
       "      <td>31.88%</td>\n",
       "      <td>11.57%</td>\n",
       "      <td>16.70%</td>\n",
       "      <td>289.52</td>\n",
       "    </tr>\n",
       "    <tr>\n",
       "      <th>ARE</th>\n",
       "      <td>2.26</td>\n",
       "      <td>29.84</td>\n",
       "      <td>47.17</td>\n",
       "      <td>NaN</td>\n",
       "      <td>12.03</td>\n",
       "      <td>58.83</td>\n",
       "      <td>6.01</td>\n",
       "      <td>2.36%</td>\n",
       "      <td>2.43%</td>\n",
       "      <td>1.13%</td>\n",
       "      <td>92.76%</td>\n",
       "      <td>7.01%</td>\n",
       "      <td>1.64%</td>\n",
       "      <td>118.10%</td>\n",
       "      <td>179.57</td>\n",
       "    </tr>\n",
       "    <tr>\n",
       "      <th>AMAT</th>\n",
       "      <td>10.79</td>\n",
       "      <td>32.26</td>\n",
       "      <td>22.57</td>\n",
       "      <td>1.80</td>\n",
       "      <td>6.83</td>\n",
       "      <td>49.66</td>\n",
       "      <td>4.18</td>\n",
       "      <td>0.65%</td>\n",
       "      <td>0.71%</td>\n",
       "      <td>0.37%</td>\n",
       "      <td>82.74%</td>\n",
       "      <td>38.31%</td>\n",
       "      <td>14.14%</td>\n",
       "      <td>26.70%</td>\n",
       "      <td>137.30</td>\n",
       "    </tr>\n",
       "    <tr>\n",
       "      <th>APTV</th>\n",
       "      <td>4.96</td>\n",
       "      <td>21.76</td>\n",
       "      <td>38.17</td>\n",
       "      <td>1.59</td>\n",
       "      <td>3.00</td>\n",
       "      <td>55.57</td>\n",
       "      <td>6.66</td>\n",
       "      <td>0.15%</td>\n",
       "      <td>NaN</td>\n",
       "      <td>0.55%</td>\n",
       "      <td>97.73%</td>\n",
       "      <td>30.09%</td>\n",
       "      <td>3.27%</td>\n",
       "      <td>30.00%</td>\n",
       "      <td>145.20</td>\n",
       "    </tr>\n",
       "    <tr>\n",
       "      <th>ANET</th>\n",
       "      <td>7.32</td>\n",
       "      <td>39.88</td>\n",
       "      <td>31.65</td>\n",
       "      <td>2.27</td>\n",
       "      <td>10.93</td>\n",
       "      <td>2.72</td>\n",
       "      <td>7.99</td>\n",
       "      <td>NaN</td>\n",
       "      <td>NaN</td>\n",
       "      <td>27.91%</td>\n",
       "      <td>65.04%</td>\n",
       "      <td>20.42%</td>\n",
       "      <td>9.89%</td>\n",
       "      <td>-29.80%</td>\n",
       "      <td>321.07</td>\n",
       "    </tr>\n",
       "  </tbody>\n",
       "</table>\n",
       "</div>"
      ],
      "text/plain": [
       "      Price/Book (mrq)  Trailing P/E Forward P/E 1  \\\n",
       "ACN              10.13         34.57         34.48   \n",
       "ARE               2.26         29.84         47.17   \n",
       "AMAT             10.79         32.26         22.57   \n",
       "APTV              4.96         21.76         38.17   \n",
       "ANET              7.32         39.88         31.65   \n",
       "\n",
       "     PEG Ratio (5 yr expected) 1 Price/Sales (ttm) Total Debt/Equity (mrq)  \\\n",
       "ACN                         3.69              4.13                   18.44   \n",
       "ARE                          NaN             12.03                   58.83   \n",
       "AMAT                        1.80              6.83                   49.66   \n",
       "APTV                        1.59              3.00                   55.57   \n",
       "ANET                        2.27             10.93                    2.72   \n",
       "\n",
       "     Diluted EPS (ttm) Trailing Annual Dividend Yield 3  \\\n",
       "ACN               8.45                            1.18%   \n",
       "ARE               6.01                            2.36%   \n",
       "AMAT              4.18                            0.65%   \n",
       "APTV              6.66                            0.15%   \n",
       "ANET              7.99                              NaN   \n",
       "\n",
       "     Forward Annual Dividend Yield 4 % Held by Insiders 1  \\\n",
       "ACN                            1.21%                0.11%   \n",
       "ARE                            2.43%                1.13%   \n",
       "AMAT                           0.71%                0.37%   \n",
       "APTV                             NaN                0.55%   \n",
       "ANET                             NaN               27.91%   \n",
       "\n",
       "     % Held by Institutions 1 Return on Equity (ttm) Return on Assets (ttm)  \\\n",
       "ACN                    73.54%                 31.88%                 11.57%   \n",
       "ARE                    92.76%                  7.01%                  1.64%   \n",
       "AMAT                   82.74%                 38.31%                 14.14%   \n",
       "APTV                   97.73%                 30.09%                  3.27%   \n",
       "ANET                   65.04%                 20.42%                  9.89%   \n",
       "\n",
       "     Quarterly Earnings Growth (yoy)  current_price  \n",
       "ACN                           16.70%         289.52  \n",
       "ARE                          118.10%         179.57  \n",
       "AMAT                          26.70%         137.30  \n",
       "APTV                          30.00%         145.20  \n",
       "ANET                         -29.80%         321.07  "
      ]
     },
     "execution_count": 14,
     "metadata": {},
     "output_type": "execute_result"
    }
   ],
   "source": [
    "FINAL.head()"
   ]
  },
  {
   "cell_type": "code",
   "execution_count": 21,
   "metadata": {},
   "outputs": [],
   "source": [
    "FINAL.to_csv('../ProjectDatasets/final_recommendations.csv', index=True, index_label='ticker')"
   ]
  },
  {
   "cell_type": "code",
   "execution_count": 22,
   "metadata": {},
   "outputs": [
    {
     "data": {
      "text/plain": [
       "(38, 15)"
      ]
     },
     "execution_count": 22,
     "metadata": {},
     "output_type": "execute_result"
    }
   ],
   "source": [
    "FINAL.shape"
   ]
  }
 ],
 "metadata": {
  "kernelspec": {
   "display_name": "Python 3",
   "language": "python",
   "name": "python3"
  },
  "language_info": {
   "codemirror_mode": {
    "name": "ipython",
    "version": 3
   },
   "file_extension": ".py",
   "mimetype": "text/x-python",
   "name": "python",
   "nbconvert_exporter": "python",
   "pygments_lexer": "ipython3",
   "version": "3.8.5"
  }
 },
 "nbformat": 4,
 "nbformat_minor": 4
}
