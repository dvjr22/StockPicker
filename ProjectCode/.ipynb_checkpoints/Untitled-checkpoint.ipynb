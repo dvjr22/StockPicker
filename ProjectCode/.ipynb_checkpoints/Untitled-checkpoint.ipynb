{
 "cells": [
  {
   "cell_type": "code",
   "execution_count": 1,
   "metadata": {},
   "outputs": [],
   "source": [
    "import pandas as pd\n",
    "import numpy as np\n",
    "import yahoo_fin.stock_info as si\n",
    "import time\n",
    "import timeit\n",
    "\n",
    "start = timeit.default_timer()"
   ]
  },
  {
   "cell_type": "code",
   "execution_count": 2,
   "metadata": {},
   "outputs": [],
   "source": [
    "tickers=['AMZN']\n",
    "# tickers=['AMZN','GOOG','PG','KO','IBM','MSFT', '897']"
   ]
  },
  {
   "cell_type": "code",
   "execution_count": 3,
   "metadata": {},
   "outputs": [
    {
     "ename": "IndexError",
     "evalue": "list index out of range",
     "output_type": "error",
     "traceback": [
      "\u001b[1;31m---------------------------------------------------------------------------\u001b[0m",
      "\u001b[1;31mIndexError\u001b[0m                                Traceback (most recent call last)",
      "\u001b[1;32m<ipython-input-3-a3599becb75a>\u001b[0m in \u001b[0;36m<module>\u001b[1;34m\u001b[0m\n\u001b[1;32m----> 1\u001b[1;33m \u001b[0msi\u001b[0m\u001b[1;33m.\u001b[0m\u001b[0mget_stats_valuation\u001b[0m\u001b[1;33m(\u001b[0m\u001b[0mtickers\u001b[0m\u001b[1;33m[\u001b[0m\u001b[1;36m0\u001b[0m\u001b[1;33m]\u001b[0m\u001b[1;33m)\u001b[0m\u001b[1;33m\u001b[0m\u001b[1;33m\u001b[0m\u001b[0m\n\u001b[0m",
      "\u001b[1;32m~\\anaconda3\\lib\\site-packages\\yahoo_fin\\stock_info.py\u001b[0m in \u001b[0;36mget_stats_valuation\u001b[1;34m(ticker)\u001b[0m\n\u001b[0;32m    360\u001b[0m \u001b[1;33m\u001b[0m\u001b[0m\n\u001b[0;32m    361\u001b[0m \u001b[1;33m\u001b[0m\u001b[0m\n\u001b[1;32m--> 362\u001b[1;33m     \u001b[0mtable\u001b[0m \u001b[1;33m=\u001b[0m \u001b[0mtables\u001b[0m\u001b[1;33m[\u001b[0m\u001b[1;36m0\u001b[0m\u001b[1;33m]\u001b[0m\u001b[1;33m.\u001b[0m\u001b[0mreset_index\u001b[0m\u001b[1;33m(\u001b[0m\u001b[0mdrop\u001b[0m \u001b[1;33m=\u001b[0m \u001b[1;32mTrue\u001b[0m\u001b[1;33m)\u001b[0m\u001b[1;33m\u001b[0m\u001b[1;33m\u001b[0m\u001b[0m\n\u001b[0m\u001b[0;32m    363\u001b[0m \u001b[1;33m\u001b[0m\u001b[0m\n\u001b[0;32m    364\u001b[0m     \u001b[1;32mreturn\u001b[0m \u001b[0mtable\u001b[0m\u001b[1;33m\u001b[0m\u001b[1;33m\u001b[0m\u001b[0m\n",
      "\u001b[1;31mIndexError\u001b[0m: list index out of range"
     ]
    }
   ],
   "source": [
    "si.get_stats_valuation(tickers[0])"
   ]
  },
  {
   "cell_type": "code",
   "execution_count": null,
   "metadata": {},
   "outputs": [
    {
     "name": "stdout",
     "output_type": "stream",
     "text": [
      "Bad Ticker: AMZN\n",
      "Bad Ticker: AMZN\n",
      "Bad Ticker: AMZN\n",
      "Bad Ticker: AMZN\n",
      "Bad Ticker: AMZN\n",
      "Bad Ticker: AMZN\n",
      "Bad Ticker: AMZN\n",
      "Bad Ticker: AMZN\n",
      "Bad Ticker: AMZN\n",
      "Bad Ticker: AMZN\n",
      "Bad Ticker: AMZN\n"
     ]
    }
   ],
   "source": [
    "table=pd.DataFrame()\n",
    "\n",
    "ticker_index = tickers.copy()\n",
    "\n",
    "for p in tickers:\n",
    "#     print(p)\n",
    "    x = True\n",
    "    while x:\n",
    "        try:\n",
    "            extra_ratio=si.get_stats_valuation(p)\n",
    "            extra_ratio = extra_ratio.iloc[:,0:2]\n",
    "            extra_ratio.index=extra_ratio['Unnamed: 0']\n",
    "            extra_ratio=exextra_ratio.drop(labels='Unnamed: 0',axis=1)\n",
    "            new_table=extra_ratio.T\n",
    "            table=table.append(new_table)  #Table having Data about the company\n",
    "            x = False\n",
    "            print('Good Ticker: {}'.format(p))\n",
    "        except:\n",
    "            print('Bad Ticker: {}'.format(p))\n",
    "            x = True\n",
    "            time.sleep(15)\n",
    "#             ticker_index.remove(p)\n",
    "        \n",
    "table.index=ticker_index\n",
    "table2 = table[ratio_valuation_function]"
   ]
  },
  {
   "cell_type": "code",
   "execution_count": 20,
   "metadata": {},
   "outputs": [],
   "source": [
    "stop = timeit.default_timer()\n",
    "\n",
    "print('Time: ', stop - start)  "
   ]
  }
 ],
 "metadata": {
  "kernelspec": {
   "display_name": "Python 3",
   "language": "python",
   "name": "python3"
  },
  "language_info": {
   "codemirror_mode": {
    "name": "ipython",
    "version": 3
   },
   "file_extension": ".py",
   "mimetype": "text/x-python",
   "name": "python",
   "nbconvert_exporter": "python",
   "pygments_lexer": "ipython3",
   "version": "3.8.5"
  }
 },
 "nbformat": 4,
 "nbformat_minor": 4
}
