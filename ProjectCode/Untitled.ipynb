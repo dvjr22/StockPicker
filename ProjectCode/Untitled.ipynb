{
 "cells": [
  {
   "cell_type": "code",
   "execution_count": 3,
   "metadata": {},
   "outputs": [],
   "source": [
    "import pandas as pd\n",
    "import numpy as np\n",
    "import yahoo_fin.stock_info as si\n",
    "import time\n",
    "import timeit\n",
    "\n",
    "start = timeit.default_timer()"
   ]
  },
  {
   "cell_type": "code",
   "execution_count": 4,
   "metadata": {},
   "outputs": [],
   "source": [
    "# tickers=['ibm']\n",
    "tickers=['AMZN','GOOG','PG','KO','IBM','MSFT']"
   ]
  },
  {
   "cell_type": "code",
   "execution_count": 5,
   "metadata": {},
   "outputs": [
    {
     "data": {
      "text/plain": [
       "'AMZN'"
      ]
     },
     "execution_count": 5,
     "metadata": {},
     "output_type": "execute_result"
    }
   ],
   "source": [
    "tickers[0]"
   ]
  },
  {
   "cell_type": "code",
   "execution_count": 43,
   "metadata": {},
   "outputs": [
    {
     "data": {
      "text/html": [
       "<div>\n",
       "<style scoped>\n",
       "    .dataframe tbody tr th:only-of-type {\n",
       "        vertical-align: middle;\n",
       "    }\n",
       "\n",
       "    .dataframe tbody tr th {\n",
       "        vertical-align: top;\n",
       "    }\n",
       "\n",
       "    .dataframe thead th {\n",
       "        text-align: right;\n",
       "    }\n",
       "</style>\n",
       "<table border=\"1\" class=\"dataframe\">\n",
       "  <thead>\n",
       "    <tr style=\"text-align: right;\">\n",
       "      <th></th>\n",
       "      <th>Unnamed: 0</th>\n",
       "      <th>As of Date: 4/24/2021Current</th>\n",
       "      <th>12/31/2020</th>\n",
       "      <th>9/30/2020</th>\n",
       "      <th>6/30/2020</th>\n",
       "      <th>3/31/2020</th>\n",
       "    </tr>\n",
       "  </thead>\n",
       "  <tbody>\n",
       "    <tr>\n",
       "      <th>0</th>\n",
       "      <td>Market Cap (intraday) 5</td>\n",
       "      <td>1.97T</td>\n",
       "      <td>1.68T</td>\n",
       "      <td>1.59T</td>\n",
       "      <td>1.54T</td>\n",
       "      <td>1.20T</td>\n",
       "    </tr>\n",
       "    <tr>\n",
       "      <th>1</th>\n",
       "      <td>Enterprise Value 3</td>\n",
       "      <td>1.90T</td>\n",
       "      <td>1.61T</td>\n",
       "      <td>1.53T</td>\n",
       "      <td>1.48T</td>\n",
       "      <td>1.14T</td>\n",
       "    </tr>\n",
       "    <tr>\n",
       "      <th>2</th>\n",
       "      <td>Trailing P/E</td>\n",
       "      <td>38.92</td>\n",
       "      <td>35.87</td>\n",
       "      <td>36.52</td>\n",
       "      <td>33.92</td>\n",
       "      <td>27.48</td>\n",
       "    </tr>\n",
       "    <tr>\n",
       "      <th>3</th>\n",
       "      <td>Forward P/E 1</td>\n",
       "      <td>32.36</td>\n",
       "      <td>33.00</td>\n",
       "      <td>32.15</td>\n",
       "      <td>32.36</td>\n",
       "      <td>25.32</td>\n",
       "    </tr>\n",
       "    <tr>\n",
       "      <th>4</th>\n",
       "      <td>PEG Ratio (5 yr expected) 1</td>\n",
       "      <td>2.41</td>\n",
       "      <td>2.57</td>\n",
       "      <td>2.50</td>\n",
       "      <td>2.48</td>\n",
       "      <td>2.77</td>\n",
       "    </tr>\n",
       "    <tr>\n",
       "      <th>5</th>\n",
       "      <td>Price/Sales (ttm)</td>\n",
       "      <td>13.03</td>\n",
       "      <td>11.59</td>\n",
       "      <td>11.30</td>\n",
       "      <td>11.30</td>\n",
       "      <td>9.07</td>\n",
       "    </tr>\n",
       "    <tr>\n",
       "      <th>6</th>\n",
       "      <td>Price/Book (mrq)</td>\n",
       "      <td>15.12</td>\n",
       "      <td>13.60</td>\n",
       "      <td>13.45</td>\n",
       "      <td>13.46</td>\n",
       "      <td>10.87</td>\n",
       "    </tr>\n",
       "    <tr>\n",
       "      <th>7</th>\n",
       "      <td>Enterprise Value/Revenue 3</td>\n",
       "      <td>12.41</td>\n",
       "      <td>37.42</td>\n",
       "      <td>41.06</td>\n",
       "      <td>38.83</td>\n",
       "      <td>32.54</td>\n",
       "    </tr>\n",
       "    <tr>\n",
       "      <th>8</th>\n",
       "      <td>Enterprise Value/EBITDA 7</td>\n",
       "      <td>25.30</td>\n",
       "      <td>74.38</td>\n",
       "      <td>78.80</td>\n",
       "      <td>83.86</td>\n",
       "      <td>68.75</td>\n",
       "    </tr>\n",
       "  </tbody>\n",
       "</table>\n",
       "</div>"
      ],
      "text/plain": [
       "                    Unnamed: 0 As of Date: 4/24/2021Current 12/31/2020  \\\n",
       "0      Market Cap (intraday) 5                        1.97T      1.68T   \n",
       "1           Enterprise Value 3                        1.90T      1.61T   \n",
       "2                 Trailing P/E                        38.92      35.87   \n",
       "3                Forward P/E 1                        32.36      33.00   \n",
       "4  PEG Ratio (5 yr expected) 1                         2.41       2.57   \n",
       "5            Price/Sales (ttm)                        13.03      11.59   \n",
       "6             Price/Book (mrq)                        15.12      13.60   \n",
       "7   Enterprise Value/Revenue 3                        12.41      37.42   \n",
       "8    Enterprise Value/EBITDA 7                        25.30      74.38   \n",
       "\n",
       "  9/30/2020 6/30/2020 3/31/2020  \n",
       "0     1.59T     1.54T     1.20T  \n",
       "1     1.53T     1.48T     1.14T  \n",
       "2     36.52     33.92     27.48  \n",
       "3     32.15     32.36     25.32  \n",
       "4      2.50      2.48      2.77  \n",
       "5     11.30     11.30      9.07  \n",
       "6     13.45     13.46     10.87  \n",
       "7     41.06     38.83     32.54  \n",
       "8     78.80     83.86     68.75  "
      ]
     },
     "execution_count": 43,
     "metadata": {},
     "output_type": "execute_result"
    }
   ],
   "source": [
    "extra_ratio=si.get_stats_valuation('msft')\n",
    "extra_ratio"
   ]
  },
  {
   "cell_type": "code",
   "execution_count": 45,
   "metadata": {},
   "outputs": [
    {
     "name": "stdout",
     "output_type": "stream",
     "text": [
      "402\n"
     ]
    }
   ],
   "source": [
    "# data=si.get_stats(p)\n",
    "count = 0\n",
    "x = True\n",
    "while x:\n",
    "    try:\n",
    "        extra_ratio=si.get_stats_valuation('msft')\n",
    "        count = count+1\n",
    "        time.sleep(30)\n",
    "        if count >=500:\n",
    "            print(count)\n",
    "            break\n",
    "    except:\n",
    "        print(count)\n",
    "        x = False"
   ]
  },
  {
   "cell_type": "code",
   "execution_count": 20,
   "metadata": {},
   "outputs": [],
   "source": [
    "stop = timeit.default_timer()\n",
    "\n",
    "print('Time: ', stop - start)  "
   ]
  }
 ],
 "metadata": {
  "kernelspec": {
   "display_name": "Python 3",
   "language": "python",
   "name": "python3"
  },
  "language_info": {
   "codemirror_mode": {
    "name": "ipython",
    "version": 3
   },
   "file_extension": ".py",
   "mimetype": "text/x-python",
   "name": "python",
   "nbconvert_exporter": "python",
   "pygments_lexer": "ipython3",
   "version": "3.8.5"
  }
 },
 "nbformat": 4,
 "nbformat_minor": 4
}
