{
 "cells": [
  {
   "cell_type": "code",
   "execution_count": 4,
   "metadata": {},
   "outputs": [
    {
     "ename": "ModuleNotFoundError",
     "evalue": "No module named 'beautifulsoup'",
     "output_type": "error",
     "traceback": [
      "\u001b[1;31m---------------------------------------------------------------------------\u001b[0m",
      "\u001b[1;31mModuleNotFoundError\u001b[0m                       Traceback (most recent call last)",
      "\u001b[1;32m<ipython-input-4-22bba4f78b8a>\u001b[0m in \u001b[0;36m<module>\u001b[1;34m\u001b[0m\n\u001b[0;32m      7\u001b[0m \u001b[1;32mimport\u001b[0m \u001b[0murllib3\u001b[0m\u001b[1;33m\u001b[0m\u001b[1;33m\u001b[0m\u001b[0m\n\u001b[0;32m      8\u001b[0m \u001b[1;31m# from urllib3 import urlopen\u001b[0m\u001b[1;33m\u001b[0m\u001b[1;33m\u001b[0m\u001b[1;33m\u001b[0m\u001b[0m\n\u001b[1;32m----> 9\u001b[1;33m \u001b[1;32mimport\u001b[0m \u001b[0mbeautifulsoup\u001b[0m\u001b[1;33m\u001b[0m\u001b[1;33m\u001b[0m\u001b[0m\n\u001b[0m",
      "\u001b[1;31mModuleNotFoundError\u001b[0m: No module named 'beautifulsoup'"
     ]
    }
   ],
   "source": [
    "'''\n",
    "Uses beautifulsoup to scrape html financial data for each company in the S&P500.  Reads in the last 5 years worth of EPS plus the current price. Outputs the stock symbol, current price, 5 yr EPS average, max price I would pay based on 25 x (5 yr AVG of EPS) and outputs a ratio of the price / max (smaller numbers are better)\n",
    "'''\n",
    "\n",
    "import time\n",
    "START = time.time()\n",
    "import urllib3\n",
    "# from urllib3 import urlopen\n",
    "import beautifulsoup"
   ]
  },
  {
   "cell_type": "code",
   "execution_count": null,
   "metadata": {},
   "outputs": [],
   "source": [
    "def quote(ticker_symbol):\n",
    "#    print ticker_symbol\n",
    "#    print type(ticker_symbol)\n",
    "    url = 'http://www.marketwatch.com/investing/stock/'\n",
    "    full_url = url + ticker_symbol + '/financials'\n",
    "#    print full_url\n",
    "    text_soup = BeautifulSoup(urlopen(full_url).read()) #read in\n",
    "    #print text_soup\n",
    "    price = text_soup.find('p', {'class': 'data bgLast'})\n",
    "    #print 'Current/Last Price:', price.string\n",
    "    titles = text_soup.findAll('td', {'class': 'rowTitle'})\n",
    "    eps = []\n",
    "    for title in titles:\n",
    "        #print title.text\n",
    "        if 'EPS (Basic)' in title.text:\n",
    "            for td in title.findNextSiblings(attrs={'class': 'valueCell'}):\n",
    "                #trap if there is a - as an entry\n",
    "                if td.text == '-':\n",
    "                    eps.append('0')\n",
    "                else:\n",
    "                    eps.append(td.text)\n",
    "    tot = 0\n",
    "    for vals in range(0, len(eps), 1):\n",
    "        #need to trap if the eps is negative.  Will have ( ).  \n",
    "        #Need to convert to negative value\n",
    "        single_eps = eps[vals]\n",
    "        if single_eps[0] == '(':\n",
    "            clean = single_eps[1:-1]\n",
    "            eps[vals] = float(clean)*(-1) #makes it negative\n",
    "        tot = float(eps[vals]) + tot\n",
    "        mean = tot/len(eps)\n",
    "        if mean < 0:\n",
    "            maximum = 0.0\n",
    "        else:\n",
    "            maximum = 25.0*mean\n",
    "    return float(price.string), mean, maximum"
   ]
  },
  {
   "cell_type": "code",
   "execution_count": null,
   "metadata": {},
   "outputs": [],
   "source": [
    "if __name__ == '__main__':\n",
    "#    symbol = ['mmm','goog']\n",
    "#    print type(symbol)\n",
    "    \n",
    "    symbol = []\n",
    "    ifile = open('sp500.csv', 'r')\n",
    "    OFILE = open('data', 'w')\n",
    "\n",
    "    for line in ifile:      \n",
    "        sym = line\n",
    "        sym.strip('\\r\\n')\n",
    "#        print sym\n",
    "#        print long\n",
    "        symbol.append(str(sym[0:(len(sym)-1)]))  \n",
    "    \n",
    "#    print symbol     \n",
    "    i = 0\n",
    "    OFILE.write('Symbol, Price, EPS (5 yr avg), Max Price, Ratio \\n')\n",
    "    for items in symbol:\n",
    "        print items\n",
    "        performance = quote(items)\n",
    "        performance2 = []\n",
    "        j = 0\n",
    "        while j < 3:\n",
    "            performance2.append(float(performance[j]))\n",
    "            j += 1\n",
    "        if performance[2] == 0.0:\n",
    "            performance2.append(1000)\n",
    "        else:\n",
    "            performance2.append(performance[0]/performance[2]) #Price / max \n",
    "        OFILE.write(items + ',  %5.1f, %5.1f, %5.1f, %5.2f' % (performance2[0], \n",
    "                                                               performance2[1], \n",
    "                                                                performance2[2], \n",
    "                                                                performance2[3])\n",
    "                                                                + '\\n')\n",
    "        #print 'Price: %5.1f, EPS (5 yr avg): %5.1f, Max price: %5.1f, Ratio: %5.2f'\n",
    "        #% (performance2[0], performance2[1], performance2[2], performance2[3])\n",
    "\n",
    "\n",
    "    ifile.close()\n",
    "    OFILE.close()\n",
    "    print 'It took', time.time()-START,'seconds.'"
   ]
  }
 ],
 "metadata": {
  "kernelspec": {
   "display_name": "Python 3",
   "language": "python",
   "name": "python3"
  },
  "language_info": {
   "codemirror_mode": {
    "name": "ipython",
    "version": 3
   },
   "file_extension": ".py",
   "mimetype": "text/x-python",
   "name": "python",
   "nbconvert_exporter": "python",
   "pygments_lexer": "ipython3",
   "version": "3.8.5"
  }
 },
 "nbformat": 4,
 "nbformat_minor": 4
}
